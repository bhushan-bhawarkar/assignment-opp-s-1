{
 "cells": [
  {
   "cell_type": "markdown",
   "id": "e557dc14-422c-4891-893f-4b185e8e4561",
   "metadata": {},
   "source": [
    "Q1. Explain Class and Object with respect to Object-Oriented Programming. Give a suitable example."
   ]
  },
  {
   "cell_type": "markdown",
   "id": "303a7239-fa91-4215-8372-e45fd3e42af6",
   "metadata": {},
   "source": [
    "Class is a blueprint or a template for creating objects, which encapsulate data and behavior. Objects are instances of a class, which contain unique values for the attributes defined in the class.\n",
    "\n",
    "For example, consider a class \"Person\" with attributes such as name, age, and address. An object of this class could be a person named \"John Doe\" who is 25 years old and lives at 123 Main Street.\n",
    "\n",
    "In object-oriented programming, classes and objects are used to model real-world entities and their behavior, making it easier to understand and manipulate complex systems."
   ]
  },
  {
   "cell_type": "code",
   "execution_count": 3,
   "id": "5a6807de-7443-4c81-968e-eebfed6d44b9",
   "metadata": {},
   "outputs": [],
   "source": [
    "class pwskill():\n",
    "    def __init__(self,name,company,mobile_no):\n",
    "        self.name=name\n",
    "        self.company=company\n",
    "        self.mobile_no=mobile_no\n",
    "    def detail(self):\n",
    "        return self.name,self.company,self.mobile_no"
   ]
  },
  {
   "cell_type": "code",
   "execution_count": 5,
   "id": "65d5ab0f-3f1d-4774-a397-31058add13c1",
   "metadata": {},
   "outputs": [],
   "source": [
    "bhushan = pwskill(\"bhushan\",\"meta\",7878767)"
   ]
  },
  {
   "cell_type": "code",
   "execution_count": 6,
   "id": "484ebe44-f830-496f-8833-6d000206593b",
   "metadata": {},
   "outputs": [
    {
     "data": {
      "text/plain": [
       "'bhushan'"
      ]
     },
     "execution_count": 6,
     "metadata": {},
     "output_type": "execute_result"
    }
   ],
   "source": [
    "bhushan.name"
   ]
  },
  {
   "cell_type": "markdown",
   "id": "953e4fb5-7988-4de7-88dc-61527848572f",
   "metadata": {},
   "source": [
    "Q2. Name the four pillars of OOPs."
   ]
  },
  {
   "cell_type": "markdown",
   "id": "a33eed51-8b5a-4b16-acce-a93efbfc64cb",
   "metadata": {},
   "source": [
    "Abstraction: Hiding implementation details and exposing only the necessary information to the user.\n",
    "\n",
    "Encapsulation: Wrapping data and behavior within an object, making it self-contained and protected from outside interference.\n",
    "\n",
    "Inheritance: Reusing existing code by creating new classes based on existing ones.\n",
    "\n",
    "Polymorphism: Abstraction: Hiding implementation details and exposing only the necessary information to the user.\n",
    "\n",
    "Encapsulation: Wrapping data and behavior within an object, making it self-contained and protected from outside interference.\n",
    "\n",
    "Inheritance: Reusing existing code by creating new classes based on existing ones.\n",
    "\n",
    "Polymorphism: Allowing objects of different classes to be treated as objects of the same class.Allowing objects of different classes to be treated as objects of the same class."
   ]
  },
  {
   "cell_type": "markdown",
   "id": "b419daeb-1685-4417-b65f-7f4baad541c4",
   "metadata": {},
   "source": [
    "Q3 Explain why the __init__() function is used. Give a suitable example."
   ]
  },
  {
   "cell_type": "markdown",
   "id": "015d8c52-f676-45ff-be64-2bd1d0786034",
   "metadata": {},
   "source": [
    "The __init__ method, also known as a constructor, is used to initialize an object's state when it is created. The __init__ method is called automatically when a new object is created from a class, and it allows the programmer to specify the initial values for the object's attributes.\n",
    "\n",
    "For example, consider a class Person with attributes such as name, age, and address. In the __init__ method, we can specify how these attributes are initialized when a new person object is created:"
   ]
  },
  {
   "cell_type": "code",
   "execution_count": 7,
   "id": "25e2c90c-e9f6-4746-ad7c-1c71b8bfb7c7",
   "metadata": {},
   "outputs": [],
   "source": [
    "class person():\n",
    "    def __init__(self,name,age,address):\n",
    "        self.name=name\n",
    "        self.age=age\n",
    "        self.address=address\n",
    "        "
   ]
  },
  {
   "cell_type": "code",
   "execution_count": 10,
   "id": "f8c19977-37df-461c-8acb-01d59a64a478",
   "metadata": {},
   "outputs": [],
   "source": [
    "bhushan = person(\"bhushan\",45,\"wardha\")"
   ]
  },
  {
   "cell_type": "code",
   "execution_count": 11,
   "id": "39dc0527-7365-46e7-955a-5e676ee50686",
   "metadata": {},
   "outputs": [
    {
     "data": {
      "text/plain": [
       "'bhushan'"
      ]
     },
     "execution_count": 11,
     "metadata": {},
     "output_type": "execute_result"
    }
   ],
   "source": [
    "bhushan.name"
   ]
  },
  {
   "cell_type": "markdown",
   "id": "9063390b-a315-4dd9-9517-0a192204714a",
   "metadata": {},
   "source": [
    "Q4. Why self is used in OOPs?"
   ]
  },
  {
   "cell_type": "markdown",
   "id": "4b31eefd-9624-4b48-a3fd-7a647a17bd81",
   "metadata": {},
   "source": [
    "self is a special variable in Python that is used in object-oriented programming (OOP) to refer to the instance of the class being executed. It is used to access the attributes and methods of the class from within the class itself.\n",
    "\n",
    "When a method is called on an object, the object itself is passed as the first argument to the method. This is why we use self as the first parameter in the method definition, so that we can refer to the attributes and methods of the class using self.\n",
    "\n",
    "Here's a simple example that demonstrates the use of self:"
   ]
  },
  {
   "cell_type": "markdown",
   "id": "7356714a-a962-4fa0-9e38-826c3faf0307",
   "metadata": {},
   "source": [
    "Q5. What is inheritance? Give an example for each type of inheritance."
   ]
  },
  {
   "cell_type": "code",
   "execution_count": null,
   "id": "342e295a-4ab3-4633-b34c-2712cf52eb04",
   "metadata": {},
   "outputs": [],
   "source": []
  }
 ],
 "metadata": {
  "kernelspec": {
   "display_name": "Python 3 (ipykernel)",
   "language": "python",
   "name": "python3"
  },
  "language_info": {
   "codemirror_mode": {
    "name": "ipython",
    "version": 3
   },
   "file_extension": ".py",
   "mimetype": "text/x-python",
   "name": "python",
   "nbconvert_exporter": "python",
   "pygments_lexer": "ipython3",
   "version": "3.10.8"
  }
 },
 "nbformat": 4,
 "nbformat_minor": 5
}
